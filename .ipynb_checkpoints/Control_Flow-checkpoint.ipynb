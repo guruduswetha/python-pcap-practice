{
 "cells": [
  {
   "cell_type": "markdown",
   "id": "dc752fd9-1842-459b-9474-1bb331d62fb6",
   "metadata": {},
   "source": [
    "# CONTROL FLOW"
   ]
  },
  {
   "cell_type": "markdown",
   "id": "623e7334-961d-4f9d-80be-5a39cbdd9b9c",
   "metadata": {},
   "source": [
    "## If /Else Statement "
   ]
  },
  {
   "cell_type": "code",
   "execution_count": 32,
   "id": "8b91975d-b68e-4b64-8112-05f57db679ed",
   "metadata": {},
   "outputs": [
    {
     "name": "stdout",
     "output_type": "stream",
     "text": [
      "It is True\n",
      "Also print this\n",
      "Always print this\n"
     ]
    }
   ],
   "source": [
    "a = True\n",
    "if a:\n",
    "    print('It is True')\n",
    "    print('Also print this')\n",
    "else:\n",
    "    print('It is False')\n",
    "print('Always print this')"
   ]
  },
  {
   "cell_type": "code",
   "execution_count": null,
   "id": "b8f294ac-1bef-4b34-ba44-adf7e45ecea7",
   "metadata": {},
   "outputs": [],
   "source": [
    "a = True\n",
    "b = True\n",
    "c = True\n",
    "if a:\n",
    "    print('It is True')\n",
    "    print('Also print this')\n",
    "    if b:\n",
    "        print ('Both are true')\n",
    "        if c:\n",
    "            print ('All three are true')\n",
    "else:\n",
    "    print('It is False')\n",
    "print('Always print this')"
   ]
  },
  {
   "cell_type": "code",
   "execution_count": null,
   "id": "eaf7ecd7-4259-4d76-9d6e-17747f4eb8fc",
   "metadata": {},
   "outputs": [],
   "source": []
  },
  {
   "cell_type": "code",
   "execution_count": null,
   "id": "10525ecb-2e7c-41ab-bc66-f03b29655333",
   "metadata": {},
   "outputs": [],
   "source": []
  },
  {
   "cell_type": "markdown",
   "id": "4497c1cc-50cf-44ef-9caf-5a3a66c761d3",
   "metadata": {},
   "source": [
    "## For Loops"
   ]
  },
  {
   "cell_type": "code",
   "execution_count": null,
   "id": "bb64307d-dfe6-477d-a588-dbf3c5421336",
   "metadata": {},
   "outputs": [],
   "source": []
  },
  {
   "cell_type": "markdown",
   "id": "0315ee3d-e563-4be2-a075-5570db890e55",
   "metadata": {},
   "source": [
    "## While Loops"
   ]
  },
  {
   "cell_type": "code",
   "execution_count": null,
   "id": "63a12dc9-f86d-4a2a-98c6-f4251f99e041",
   "metadata": {},
   "outputs": [],
   "source": []
  },
  {
   "cell_type": "code",
   "execution_count": null,
   "id": "62e166bd-389b-41f7-95bc-7e4f096f8c5f",
   "metadata": {},
   "outputs": [],
   "source": []
  }
 ],
 "metadata": {
  "kernelspec": {
   "display_name": "Python 3 (ipykernel)",
   "language": "python",
   "name": "python3"
  },
  "language_info": {
   "codemirror_mode": {
    "name": "ipython",
    "version": 3
   },
   "file_extension": ".py",
   "mimetype": "text/x-python",
   "name": "python",
   "nbconvert_exporter": "python",
   "pygments_lexer": "ipython3",
   "version": "3.13.3"
  }
 },
 "nbformat": 4,
 "nbformat_minor": 5
}
