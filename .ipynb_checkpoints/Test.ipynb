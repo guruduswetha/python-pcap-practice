{
 "cells": [
  {
   "cell_type": "markdown",
   "id": "4d7ec732-8b5d-4129-800c-a06b16944558",
   "metadata": {},
   "source": [
    "# TITLE"
   ]
  },
  {
   "cell_type": "markdown",
   "id": "df09975f-02cf-4c4b-a1d9-38d9d72b2aea",
   "metadata": {},
   "source": [
    "## SMALL TITLE"
   ]
  },
  {
   "cell_type": "markdown",
   "id": "d5529f3c-5614-47ba-a46d-7094bf21acb5",
   "metadata": {},
   "source": []
  },
  {
   "cell_type": "code",
   "execution_count": 14,
   "id": "dae309ec-ed50-4037-a7f2-24b02fbcf71f",
   "metadata": {},
   "outputs": [],
   "source": [
    "x=5"
   ]
  },
  {
   "cell_type": "code",
   "execution_count": 15,
   "id": "480522c2-6ccb-4afe-8c9c-deaef98ecf45",
   "metadata": {},
   "outputs": [
    {
     "name": "stdout",
     "output_type": "stream",
     "text": [
      "5\n"
     ]
    }
   ],
   "source": [
    "print(x)"
   ]
  },
  {
   "cell_type": "code",
   "execution_count": 16,
   "id": "99deec06-cc6b-4875-bd16-3bb80ca52d58",
   "metadata": {},
   "outputs": [
    {
     "data": {
      "text/plain": [
       "5"
      ]
     },
     "execution_count": 16,
     "metadata": {},
     "output_type": "execute_result"
    }
   ],
   "source": [
    "x"
   ]
  },
  {
   "cell_type": "code",
   "execution_count": 31,
   "id": "97c23b4d-30a0-4bae-9c4f-00dd5664f5bb",
   "metadata": {},
   "outputs": [],
   "source": [
    "jsajfh = 12.89"
   ]
  },
  {
   "cell_type": "code",
   "execution_count": 33,
   "id": "2308c60e-8408-4054-82e2-30ff2800a62e",
   "metadata": {},
   "outputs": [
    {
     "data": {
      "text/plain": [
       "float"
      ]
     },
     "execution_count": 33,
     "metadata": {},
     "output_type": "execute_result"
    }
   ],
   "source": [
    "type(jsajfh)"
   ]
  },
  {
   "cell_type": "code",
   "execution_count": 34,
   "id": "394c1df7-05ff-4221-85b8-028664f6029e",
   "metadata": {},
   "outputs": [
    {
     "data": {
      "text/plain": [
       "int"
      ]
     },
     "execution_count": 34,
     "metadata": {},
     "output_type": "execute_result"
    }
   ],
   "source": [
    "type(x)"
   ]
  },
  {
   "cell_type": "markdown",
   "id": "fec1b579-f898-4780-9f43-d55210b3bb0b",
   "metadata": {},
   "source": [
    "## Numbers"
   ]
  },
  {
   "cell_type": "code",
   "execution_count": 41,
   "id": "04ea2166-1d37-4a5c-9875-b3722f2032a2",
   "metadata": {},
   "outputs": [
    {
     "data": {
      "text/plain": [
       "float"
      ]
     },
     "execution_count": 41,
     "metadata": {},
     "output_type": "execute_result"
    }
   ],
   "source": [
    "type(1.365)"
   ]
  },
  {
   "cell_type": "code",
   "execution_count": null,
   "id": "396e8db0-7bd9-4f8c-ac13-5c232fce7adf",
   "metadata": {},
   "outputs": [],
   "source": [
    "1.46345"
   ]
  },
  {
   "cell_type": "code",
   "execution_count": null,
   "id": "1c8c1033-89d2-4957-916b-18d761b6a710",
   "metadata": {},
   "outputs": [],
   "source": [
    "1323536.7"
   ]
  },
  {
   "cell_type": "code",
   "execution_count": 43,
   "id": "a37a1dac-6ebb-48df-885b-7b0cba172b70",
   "metadata": {},
   "outputs": [
    {
     "data": {
      "text/plain": [
       "complex"
      ]
     },
     "execution_count": 43,
     "metadata": {},
     "output_type": "execute_result"
    }
   ],
   "source": [
    "type(2j)"
   ]
  },
  {
   "cell_type": "code",
   "execution_count": 44,
   "id": "30277b46-62e6-40c3-990b-f4946c7c99a3",
   "metadata": {},
   "outputs": [
    {
     "data": {
      "text/plain": [
       "(-1+0j)"
      ]
     },
     "execution_count": 44,
     "metadata": {},
     "output_type": "execute_result"
    }
   ],
   "source": [
    "1j* 1j"
   ]
  },
  {
   "cell_type": "markdown",
   "id": "72fd0196-0632-43dc-91f6-c04aea9f1629",
   "metadata": {},
   "source": [
    "## Strings"
   ]
  },
  {
   "cell_type": "code",
   "execution_count": 45,
   "id": "4d045cbc-228d-4bab-b7d0-5644bf365f9a",
   "metadata": {},
   "outputs": [
    {
     "data": {
      "text/plain": [
       "'String 1String 2'"
      ]
     },
     "execution_count": 45,
     "metadata": {},
     "output_type": "execute_result"
    }
   ],
   "source": [
    "'String 1'+ 'String 2'"
   ]
  },
  {
   "cell_type": "code",
   "execution_count": 46,
   "id": "12692bfd-e984-4f83-a41f-8f23082a21e5",
   "metadata": {},
   "outputs": [
    {
     "data": {
      "text/plain": [
       "'11'"
      ]
     },
     "execution_count": 46,
     "metadata": {},
     "output_type": "execute_result"
    }
   ],
   "source": [
    "'1'+'1'"
   ]
  },
  {
   "cell_type": "code",
   "execution_count": 47,
   "id": "1f5fc1b0-0054-4a9d-b40f-859bfd030de1",
   "metadata": {},
   "outputs": [
    {
     "ename": "TypeError",
     "evalue": "can only concatenate str (not \"int\") to str",
     "output_type": "error",
     "traceback": [
      "\u001b[31m---------------------------------------------------------------------------\u001b[39m",
      "\u001b[31mTypeError\u001b[39m                                 Traceback (most recent call last)",
      "\u001b[36mCell\u001b[39m\u001b[36m \u001b[39m\u001b[32mIn[47]\u001b[39m\u001b[32m, line 1\u001b[39m\n\u001b[32m----> \u001b[39m\u001b[32m1\u001b[39m \u001b[33;43m'\u001b[39;49m\u001b[33;43m1\u001b[39;49m\u001b[33;43m'\u001b[39;49m\u001b[43m+\u001b[49m\u001b[32;43m1\u001b[39;49m\n",
      "\u001b[31mTypeError\u001b[39m: can only concatenate str (not \"int\") to str"
     ]
    }
   ],
   "source": [
    "'1'+1"
   ]
  },
  {
   "cell_type": "markdown",
   "id": "d4b7d5f5-db3a-411b-9f63-e4a5db3310ea",
   "metadata": {},
   "source": [
    "## Booleans"
   ]
  },
  {
   "cell_type": "code",
   "execution_count": 48,
   "id": "74dc8164-f5ed-4d7c-9286-34e941859605",
   "metadata": {},
   "outputs": [
    {
     "data": {
      "text/plain": [
       "True"
      ]
     },
     "execution_count": 48,
     "metadata": {},
     "output_type": "execute_result"
    }
   ],
   "source": [
    "True"
   ]
  },
  {
   "cell_type": "code",
   "execution_count": 49,
   "id": "2c3dd886-6cd3-4ed5-9e5a-bffba3ccd7dd",
   "metadata": {},
   "outputs": [
    {
     "data": {
      "text/plain": [
       "False"
      ]
     },
     "execution_count": 49,
     "metadata": {},
     "output_type": "execute_result"
    }
   ],
   "source": [
    "False"
   ]
  },
  {
   "cell_type": "code",
   "execution_count": 50,
   "id": "21ff3648-3341-4a92-b72d-4fcdf9254e80",
   "metadata": {},
   "outputs": [
    {
     "ename": "NameError",
     "evalue": "name 'true' is not defined",
     "output_type": "error",
     "traceback": [
      "\u001b[31m---------------------------------------------------------------------------\u001b[39m",
      "\u001b[31mNameError\u001b[39m                                 Traceback (most recent call last)",
      "\u001b[36mCell\u001b[39m\u001b[36m \u001b[39m\u001b[32mIn[50]\u001b[39m\u001b[32m, line 1\u001b[39m\n\u001b[32m----> \u001b[39m\u001b[32m1\u001b[39m \u001b[43mtrue\u001b[49m\n",
      "\u001b[31mNameError\u001b[39m: name 'true' is not defined"
     ]
    }
   ],
   "source": [
    "true"
   ]
  },
  {
   "cell_type": "code",
   "execution_count": 51,
   "id": "9b91b531-5f39-4dc5-8e15-c7bc5cbb1855",
   "metadata": {},
   "outputs": [],
   "source": [
    "true= True"
   ]
  },
  {
   "cell_type": "code",
   "execution_count": 52,
   "id": "622f1ee7-3f15-481d-99ff-93184fdffdae",
   "metadata": {},
   "outputs": [
    {
     "data": {
      "text/plain": [
       "True"
      ]
     },
     "execution_count": 52,
     "metadata": {},
     "output_type": "execute_result"
    }
   ],
   "source": [
    "1 ==1"
   ]
  },
  {
   "cell_type": "code",
   "execution_count": 54,
   "id": "a006a240-5e87-4841-b0b1-56db52d8c218",
   "metadata": {},
   "outputs": [
    {
     "data": {
      "text/plain": [
       "False"
      ]
     },
     "execution_count": 54,
     "metadata": {},
     "output_type": "execute_result"
    }
   ],
   "source": [
    "1== 2"
   ]
  },
  {
   "cell_type": "markdown",
   "id": "600ea935-a69c-4f87-8db4-bd877751b98c",
   "metadata": {},
   "source": [
    "## Data Structures"
   ]
  },
  {
   "cell_type": "markdown",
   "id": "91dbc791-9e34-429b-be0c-1fc4fc359bf4",
   "metadata": {},
   "source": [
    "## Lists"
   ]
  },
  {
   "cell_type": "code",
   "execution_count": 55,
   "id": "487c4672-9b11-4fbb-ad37-2b5f7ec396ab",
   "metadata": {},
   "outputs": [
    {
     "name": "stdout",
     "output_type": "stream",
     "text": [
      "[1, 2, 3, 4, 5]\n"
     ]
    }
   ],
   "source": [
    "my_list = [1,2,3,4,5]\n",
    "print(my_list)"
   ]
  },
  {
   "cell_type": "markdown",
   "id": "c5102370-6d59-4769-aabf-3d5ce66e91b5",
   "metadata": {},
   "source": [
    "## Sets"
   ]
  },
  {
   "cell_type": "code",
   "execution_count": null,
   "id": "98ff112d-a343-4c25-81a1-38e036626adc",
   "metadata": {},
   "outputs": [],
   "source": []
  },
  {
   "cell_type": "markdown",
   "id": "66a024b9-918d-4c6c-b23d-d21bdb63038d",
   "metadata": {},
   "source": [
    "## Tuples"
   ]
  },
  {
   "cell_type": "code",
   "execution_count": null,
   "id": "d3b5b4bc-b6e2-47df-946d-fd0f16139ea4",
   "metadata": {},
   "outputs": [],
   "source": []
  },
  {
   "cell_type": "markdown",
   "id": "2f3820fa-bc95-466c-8ff4-6a52f7a5da77",
   "metadata": {},
   "source": [
    "## Dictionaries"
   ]
  },
  {
   "cell_type": "code",
   "execution_count": null,
   "id": "c55e8863-29c6-4f65-babb-3f9c877bb7a2",
   "metadata": {},
   "outputs": [],
   "source": []
  }
 ],
 "metadata": {
  "kernelspec": {
   "display_name": "Python 3 (ipykernel)",
   "language": "python",
   "name": "python3"
  },
  "language_info": {
   "codemirror_mode": {
    "name": "ipython",
    "version": 3
   },
   "file_extension": ".py",
   "mimetype": "text/x-python",
   "name": "python",
   "nbconvert_exporter": "python",
   "pygments_lexer": "ipython3",
   "version": "3.13.3"
  }
 },
 "nbformat": 4,
 "nbformat_minor": 5
}
