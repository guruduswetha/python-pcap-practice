{
 "cells": [
  {
   "cell_type": "markdown",
   "id": "f64e14c7-750a-4979-aa9f-a884cdead29d",
   "metadata": {},
   "source": [
    " # Title\n"
   ]
  },
  {
   "cell_type": "markdown",
   "id": "bc7788ca-b7e7-40f4-a185-3f491b60f5b6",
   "metadata": {},
   "source": [
    "# small title"
   ]
  },
  {
   "cell_type": "code",
   "execution_count": 5,
   "id": "ad66d9cf-2087-47ff-ab6b-62d4b323c9bc",
   "metadata": {},
   "outputs": [
    {
     "name": "stdout",
     "output_type": "stream",
     "text": [
      "doing some data science!\n"
     ]
    }
   ],
   "source": [
    "print('doing some data science!')"
   ]
  },
  {
   "cell_type": "code",
   "execution_count": 6,
   "id": "fc8d3e21-edb4-4bf3-8197-905f38185c79",
   "metadata": {},
   "outputs": [
    {
     "ename": "SyntaxError",
     "evalue": "invalid syntax (3319177187.py, line 1)",
     "output_type": "error",
     "traceback": [
      "  \u001b[36mCell\u001b[39m\u001b[36m \u001b[39m\u001b[32mIn[6]\u001b[39m\u001b[32m, line 1\u001b[39m\n\u001b[31m    \u001b[39m\u001b[31m$this_{is}^{inline}$\u001b[39m\n    ^\n\u001b[31mSyntaxError\u001b[39m\u001b[31m:\u001b[39m invalid syntax\n"
     ]
    }
   ],
   "source": [
    "$this_{is}^{inline}$"
   ]
  },
  {
   "cell_type": "code",
   "execution_count": null,
   "id": "d1c46ea3-e0f4-43f9-aeaa-dffec9c1cddc",
   "metadata": {},
   "outputs": [
    {
     "name": "stdout",
     "output_type": "stream",
     "text": [
      "2\n"
     ]
    }
   ],
   "source": [
    "print(1+1)\n"
   ]
  },
  {
   "cell_type": "code",
   "execution_count": null,
   "id": "2c22a307-02ba-4d5e-8989-fd5dfcc0bb07",
   "metadata": {},
   "outputs": [],
   "source": []
  },
  {
   "cell_type": "code",
   "execution_count": null,
   "id": "ccfda682-2141-4b10-86de-037dd402fe55",
   "metadata": {},
   "outputs": [],
   "source": []
  },
  {
   "cell_type": "code",
   "execution_count": null,
   "id": "7f519503-71fb-4552-8d33-c63c094e39df",
   "metadata": {},
   "outputs": [],
   "source": []
  }
 ],
 "metadata": {
  "kernelspec": {
   "display_name": "Python 3",
   "language": "python",
   "name": "python3"
  },
  "language_info": {
   "codemirror_mode": {
    "name": "ipython",
    "version": 3
   },
   "file_extension": ".py",
   "mimetype": "text/x-python",
   "name": "python",
   "nbconvert_exporter": "python",
   "pygments_lexer": "ipython3",
   "version": "3.13.3"
  }
 },
 "nbformat": 4,
 "nbformat_minor": 5
}
